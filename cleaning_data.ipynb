{
 "cells": [
  {
   "cell_type": "code",
   "execution_count": 6,
   "id": "6ef8ac7d-84a3-4a76-9d80-529fcabdba20",
   "metadata": {},
   "outputs": [],
   "source": [
    "import pandas as pd\n",
    "from sklearn.experimental import enable_iterative_imputer\n",
    "from sklearn.impute import IterativeImputer\n",
    "data = pd.read_csv('data.csv', encoding='UTF-8')"
   ]
  },
  {
   "cell_type": "code",
   "execution_count": 7,
   "id": "f718019d-55dd-44fb-bd37-710dc64b4b83",
   "metadata": {},
   "outputs": [],
   "source": [
    "representativity = data['CAUSAL_PARALIZACION'].value_counts(normalize=True)\n",
    "top = representativity.head(3).index\n",
    "data['CAUSAL_PARALIZACION'] = data['CAUSAL_PARALIZACION'].apply(\n",
    "    lambda x: x if x in top else '14 Otros'\n",
    ")\n",
    "columns_categorical = data.select_dtypes(include=['object']).columns\n",
    "for col in columns_categorical:\n",
    "    data[col] = data[col].str.upper().str.strip()"
   ]
  },
  {
   "cell_type": "code",
   "execution_count": 8,
   "id": "986102a0-7506-4a13-a074-4012dd10397f",
   "metadata": {},
   "outputs": [],
   "source": [
    "cols_normalize_currency = ['COSTO_DE_OBRA-EXP_TEC',\n",
    "                           'COSTO_ACTUALIZADO',\n",
    "                           'SALDO_DE_INVERSION']\n",
    "for col in cols_normalize_currency:\n",
    "    data[col] = data[col].str.replace(',', '', regex=True)\n",
    "    data[col] = data[col].replace('', None)\n",
    "    data[col] = data[col].dropna().str.replace(\n",
    "        r'[^\\d.]',\n",
    "        '',\n",
    "        regex=True).str.replace(\n",
    "        r'^\\.',\n",
    "        '',\n",
    "        regex=True).astype(float, errors='ignore')\n",
    "    data[col] = pd.to_numeric(data[col], errors='coerce')"
   ]
  },
  {
   "cell_type": "code",
   "execution_count": 9,
   "id": "e277b2fc-7656-4cd0-817b-a39be2a8fd49",
   "metadata": {},
   "outputs": [],
   "source": [
    "val_range = data['RANGO_DE_INVERSION'].unique()\n",
    "data_sets = []\n",
    "for r in val_range:\n",
    "    data_sets.append(data[data['RANGO_DE_INVERSION'] == r])"
   ]
  },
  {
   "cell_type": "code",
   "execution_count": 10,
   "id": "11ab5129-bd7b-478d-9bef-4d07cbe10290",
   "metadata": {
    "scrolled": true
   },
   "outputs": [],
   "source": [
    "for index in range(len(val_range)):\n",
    "    cols_numerical = data_sets[index].select_dtypes(\n",
    "        include=['float64', 'int64']).columns\n",
    "    cols_categorical = data_sets[index].select_dtypes(\n",
    "        include=['object']).columns\n",
    "    numerical_imputer = IterativeImputer(random_state=42)\n",
    "    data_sets[index].loc[:, cols_numerical] = numerical_imputer.fit_transform(\n",
    "        data_sets[index][cols_numerical])\n",
    "\n",
    "    for col in cols_categorical:\n",
    "        data_sets[index].loc[:, col] = data_sets[index][col].fillna(\n",
    "            data_sets[index][col].mode()[0])\n",
    "data_cleaning = pd.concat(data_sets, ignore_index=True)\n",
    "data_cleaning['ANO_INICIO_OBRA'] = data_cleaning['ANO_INICIO_OBRA'].astype(int)\n",
    "data_cleaning['PLAZO_DE_EJECUCION'] = data_cleaning['PLAZO_DE_EJECUCION'].astype(int)\n",
    "data_cleaning['ULT_AVANCE_MES'] = data_cleaning['ULT_AVANCE_MES'].astype(int)\n",
    "data_cleaning['ULT_AVANCE_ANO'] = data_cleaning['ULT_AVANCE_ANO'].astype(int)\n",
    "data_cleaning.to_csv('dataset-cleaning.csv', encoding='utf-8', index=False)"
   ]
  }
 ],
 "metadata": {
  "kernelspec": {
   "display_name": "Python 3 (ipykernel)",
   "language": "python",
   "name": "python3"
  },
  "language_info": {
   "codemirror_mode": {
    "name": "ipython",
    "version": 3
   },
   "file_extension": ".py",
   "mimetype": "text/x-python",
   "name": "python",
   "nbconvert_exporter": "python",
   "pygments_lexer": "ipython3",
   "version": "3.12.5"
  }
 },
 "nbformat": 4,
 "nbformat_minor": 5
}
